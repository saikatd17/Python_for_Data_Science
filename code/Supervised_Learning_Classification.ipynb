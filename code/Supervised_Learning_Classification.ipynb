{
 "cells": [
  {
   "cell_type": "code",
   "execution_count": 1,
   "id": "e28a87a7",
   "metadata": {},
   "outputs": [],
   "source": [
    "#Import the standard libraries used for data science\n",
    "import numpy as np\n",
    "import pandas as pd\n",
    "import matplotlib.pyplot as plt\n",
    "import seaborn as sns\n",
    "\n",
    "#suppress warnings\n",
    "import warnings\n",
    "warnings.filterwarnings('ignore')"
   ]
  },
  {
   "cell_type": "code",
   "execution_count": 2,
   "id": "15e10601",
   "metadata": {},
   "outputs": [],
   "source": [
    "# Load cleaned Titanic dataset\n",
    "\n",
    "fname = \"titanic_cleaned_1807.csv\" # ? \"titanic_cleaned_1807.csv\"\n",
    "#df = pd.read_csv(fname) \n",
    "# To remove the index column saved as the first column in the dataset while saving dataframe using to_csv()\n",
    "df = pd.read_csv(fname,usecols=range(1,12)) "
   ]
  },
  {
   "cell_type": "code",
   "execution_count": 3,
   "id": "9c15043f",
   "metadata": {},
   "outputs": [
    {
     "data": {
      "text/html": [
       "<div>\n",
       "<style scoped>\n",
       "    .dataframe tbody tr th:only-of-type {\n",
       "        vertical-align: middle;\n",
       "    }\n",
       "\n",
       "    .dataframe tbody tr th {\n",
       "        vertical-align: top;\n",
       "    }\n",
       "\n",
       "    .dataframe thead th {\n",
       "        text-align: right;\n",
       "    }\n",
       "</style>\n",
       "<table border=\"1\" class=\"dataframe\">\n",
       "  <thead>\n",
       "    <tr style=\"text-align: right;\">\n",
       "      <th></th>\n",
       "      <th>Survived</th>\n",
       "      <th>Age</th>\n",
       "      <th>Fare</th>\n",
       "      <th>Family_Cnt</th>\n",
       "      <th>New_fare</th>\n",
       "      <th>Sex_male</th>\n",
       "      <th>Pclass_2</th>\n",
       "      <th>Pclass_3</th>\n",
       "      <th>Embarked_Q</th>\n",
       "      <th>Embarked_S</th>\n",
       "      <th>Cabin_ind_1</th>\n",
       "    </tr>\n",
       "  </thead>\n",
       "  <tbody>\n",
       "    <tr>\n",
       "      <th>0</th>\n",
       "      <td>0</td>\n",
       "      <td>22.0</td>\n",
       "      <td>7.2500</td>\n",
       "      <td>1</td>\n",
       "      <td>7.2500</td>\n",
       "      <td>1</td>\n",
       "      <td>0</td>\n",
       "      <td>1</td>\n",
       "      <td>0</td>\n",
       "      <td>1</td>\n",
       "      <td>0</td>\n",
       "    </tr>\n",
       "    <tr>\n",
       "      <th>1</th>\n",
       "      <td>1</td>\n",
       "      <td>38.0</td>\n",
       "      <td>71.2833</td>\n",
       "      <td>1</td>\n",
       "      <td>71.2833</td>\n",
       "      <td>0</td>\n",
       "      <td>0</td>\n",
       "      <td>0</td>\n",
       "      <td>0</td>\n",
       "      <td>0</td>\n",
       "      <td>1</td>\n",
       "    </tr>\n",
       "    <tr>\n",
       "      <th>2</th>\n",
       "      <td>1</td>\n",
       "      <td>26.0</td>\n",
       "      <td>7.9250</td>\n",
       "      <td>0</td>\n",
       "      <td>7.9250</td>\n",
       "      <td>0</td>\n",
       "      <td>0</td>\n",
       "      <td>1</td>\n",
       "      <td>0</td>\n",
       "      <td>1</td>\n",
       "      <td>0</td>\n",
       "    </tr>\n",
       "    <tr>\n",
       "      <th>3</th>\n",
       "      <td>1</td>\n",
       "      <td>35.0</td>\n",
       "      <td>53.1000</td>\n",
       "      <td>1</td>\n",
       "      <td>53.1000</td>\n",
       "      <td>0</td>\n",
       "      <td>0</td>\n",
       "      <td>0</td>\n",
       "      <td>0</td>\n",
       "      <td>1</td>\n",
       "      <td>1</td>\n",
       "    </tr>\n",
       "    <tr>\n",
       "      <th>4</th>\n",
       "      <td>0</td>\n",
       "      <td>35.0</td>\n",
       "      <td>8.0500</td>\n",
       "      <td>0</td>\n",
       "      <td>8.0500</td>\n",
       "      <td>1</td>\n",
       "      <td>0</td>\n",
       "      <td>1</td>\n",
       "      <td>0</td>\n",
       "      <td>1</td>\n",
       "      <td>0</td>\n",
       "    </tr>\n",
       "  </tbody>\n",
       "</table>\n",
       "</div>"
      ],
      "text/plain": [
       "   Survived   Age     Fare  Family_Cnt  New_fare  Sex_male  Pclass_2  \\\n",
       "0         0  22.0   7.2500           1    7.2500         1         0   \n",
       "1         1  38.0  71.2833           1   71.2833         0         0   \n",
       "2         1  26.0   7.9250           0    7.9250         0         0   \n",
       "3         1  35.0  53.1000           1   53.1000         0         0   \n",
       "4         0  35.0   8.0500           0    8.0500         1         0   \n",
       "\n",
       "   Pclass_3  Embarked_Q  Embarked_S  Cabin_ind_1  \n",
       "0         1           0           1            0  \n",
       "1         0           0           0            1  \n",
       "2         1           0           1            0  \n",
       "3         0           0           1            1  \n",
       "4         1           0           1            0  "
      ]
     },
     "execution_count": 3,
     "metadata": {},
     "output_type": "execute_result"
    }
   ],
   "source": [
    "df.head()"
   ]
  },
  {
   "cell_type": "code",
   "execution_count": 4,
   "id": "602bb491",
   "metadata": {},
   "outputs": [
    {
     "data": {
      "text/plain": [
       "(891, 11)"
      ]
     },
     "execution_count": 4,
     "metadata": {},
     "output_type": "execute_result"
    }
   ],
   "source": [
    "df.shape "
   ]
  },
  {
   "cell_type": "code",
   "execution_count": 5,
   "id": "fb4b393f",
   "metadata": {},
   "outputs": [
    {
     "data": {
      "text/plain": [
       "Survived       0\n",
       "Age            0\n",
       "Fare           0\n",
       "Family_Cnt     0\n",
       "New_fare       0\n",
       "Sex_male       0\n",
       "Pclass_2       0\n",
       "Pclass_3       0\n",
       "Embarked_Q     0\n",
       "Embarked_S     0\n",
       "Cabin_ind_1    0\n",
       "dtype: int64"
      ]
     },
     "execution_count": 5,
     "metadata": {},
     "output_type": "execute_result"
    }
   ],
   "source": [
    "df.isnull().sum()"
   ]
  },
  {
   "cell_type": "code",
   "execution_count": 6,
   "id": "371b146a",
   "metadata": {},
   "outputs": [
    {
     "name": "stdout",
     "output_type": "stream",
     "text": [
      "<class 'pandas.core.frame.DataFrame'>\n",
      "RangeIndex: 891 entries, 0 to 890\n",
      "Data columns (total 11 columns):\n",
      " #   Column       Non-Null Count  Dtype  \n",
      "---  ------       --------------  -----  \n",
      " 0   Survived     891 non-null    int64  \n",
      " 1   Age          891 non-null    float64\n",
      " 2   Fare         891 non-null    float64\n",
      " 3   Family_Cnt   891 non-null    int64  \n",
      " 4   New_fare     891 non-null    float64\n",
      " 5   Sex_male     891 non-null    int64  \n",
      " 6   Pclass_2     891 non-null    int64  \n",
      " 7   Pclass_3     891 non-null    int64  \n",
      " 8   Embarked_Q   891 non-null    int64  \n",
      " 9   Embarked_S   891 non-null    int64  \n",
      " 10  Cabin_ind_1  891 non-null    int64  \n",
      "dtypes: float64(3), int64(8)\n",
      "memory usage: 76.7 KB\n"
     ]
    }
   ],
   "source": [
    "df.info()"
   ]
  },
  {
   "cell_type": "code",
   "execution_count": 7,
   "id": "96fc3b4b",
   "metadata": {},
   "outputs": [],
   "source": [
    "#Select only required columns and separate dependent & independent variables\n",
    "\n",
    "cols_needed = ['Age','Family_Cnt','New_fare','Sex_male','Pclass_2','Pclass_3','Embarked_Q','Embarked_S','Cabin_ind_1']\n",
    "\n",
    "X = df[cols_needed] # independent variables \n",
    "\n",
    "Y = df['Survived'] # dependent variable"
   ]
  },
  {
   "cell_type": "code",
   "execution_count": 8,
   "id": "4b3bd17e",
   "metadata": {},
   "outputs": [
    {
     "data": {
      "text/html": [
       "<div>\n",
       "<style scoped>\n",
       "    .dataframe tbody tr th:only-of-type {\n",
       "        vertical-align: middle;\n",
       "    }\n",
       "\n",
       "    .dataframe tbody tr th {\n",
       "        vertical-align: top;\n",
       "    }\n",
       "\n",
       "    .dataframe thead th {\n",
       "        text-align: right;\n",
       "    }\n",
       "</style>\n",
       "<table border=\"1\" class=\"dataframe\">\n",
       "  <thead>\n",
       "    <tr style=\"text-align: right;\">\n",
       "      <th></th>\n",
       "      <th>Age</th>\n",
       "      <th>Family_Cnt</th>\n",
       "      <th>New_fare</th>\n",
       "      <th>Sex_male</th>\n",
       "      <th>Pclass_2</th>\n",
       "      <th>Pclass_3</th>\n",
       "      <th>Embarked_Q</th>\n",
       "      <th>Embarked_S</th>\n",
       "      <th>Cabin_ind_1</th>\n",
       "    </tr>\n",
       "  </thead>\n",
       "  <tbody>\n",
       "    <tr>\n",
       "      <th>0</th>\n",
       "      <td>22.0</td>\n",
       "      <td>1</td>\n",
       "      <td>7.2500</td>\n",
       "      <td>1</td>\n",
       "      <td>0</td>\n",
       "      <td>1</td>\n",
       "      <td>0</td>\n",
       "      <td>1</td>\n",
       "      <td>0</td>\n",
       "    </tr>\n",
       "    <tr>\n",
       "      <th>1</th>\n",
       "      <td>38.0</td>\n",
       "      <td>1</td>\n",
       "      <td>71.2833</td>\n",
       "      <td>0</td>\n",
       "      <td>0</td>\n",
       "      <td>0</td>\n",
       "      <td>0</td>\n",
       "      <td>0</td>\n",
       "      <td>1</td>\n",
       "    </tr>\n",
       "    <tr>\n",
       "      <th>2</th>\n",
       "      <td>26.0</td>\n",
       "      <td>0</td>\n",
       "      <td>7.9250</td>\n",
       "      <td>0</td>\n",
       "      <td>0</td>\n",
       "      <td>1</td>\n",
       "      <td>0</td>\n",
       "      <td>1</td>\n",
       "      <td>0</td>\n",
       "    </tr>\n",
       "    <tr>\n",
       "      <th>3</th>\n",
       "      <td>35.0</td>\n",
       "      <td>1</td>\n",
       "      <td>53.1000</td>\n",
       "      <td>0</td>\n",
       "      <td>0</td>\n",
       "      <td>0</td>\n",
       "      <td>0</td>\n",
       "      <td>1</td>\n",
       "      <td>1</td>\n",
       "    </tr>\n",
       "    <tr>\n",
       "      <th>4</th>\n",
       "      <td>35.0</td>\n",
       "      <td>0</td>\n",
       "      <td>8.0500</td>\n",
       "      <td>1</td>\n",
       "      <td>0</td>\n",
       "      <td>1</td>\n",
       "      <td>0</td>\n",
       "      <td>1</td>\n",
       "      <td>0</td>\n",
       "    </tr>\n",
       "  </tbody>\n",
       "</table>\n",
       "</div>"
      ],
      "text/plain": [
       "    Age  Family_Cnt  New_fare  Sex_male  Pclass_2  Pclass_3  Embarked_Q  \\\n",
       "0  22.0           1    7.2500         1         0         1           0   \n",
       "1  38.0           1   71.2833         0         0         0           0   \n",
       "2  26.0           0    7.9250         0         0         1           0   \n",
       "3  35.0           1   53.1000         0         0         0           0   \n",
       "4  35.0           0    8.0500         1         0         1           0   \n",
       "\n",
       "   Embarked_S  Cabin_ind_1  \n",
       "0           1            0  \n",
       "1           0            1  \n",
       "2           1            0  \n",
       "3           1            1  \n",
       "4           1            0  "
      ]
     },
     "execution_count": 8,
     "metadata": {},
     "output_type": "execute_result"
    }
   ],
   "source": [
    "X.head()"
   ]
  },
  {
   "cell_type": "code",
   "execution_count": 9,
   "id": "b02d0726",
   "metadata": {},
   "outputs": [
    {
     "data": {
      "text/plain": [
       "0    0\n",
       "1    1\n",
       "2    1\n",
       "3    1\n",
       "4    0\n",
       "Name: Survived, dtype: int64"
      ]
     },
     "execution_count": 9,
     "metadata": {},
     "output_type": "execute_result"
    }
   ],
   "source": [
    "Y.head()"
   ]
  },
  {
   "cell_type": "code",
   "execution_count": 10,
   "id": "3b0e0499",
   "metadata": {},
   "outputs": [
    {
     "data": {
      "text/html": [
       "<div>\n",
       "<style scoped>\n",
       "    .dataframe tbody tr th:only-of-type {\n",
       "        vertical-align: middle;\n",
       "    }\n",
       "\n",
       "    .dataframe tbody tr th {\n",
       "        vertical-align: top;\n",
       "    }\n",
       "\n",
       "    .dataframe thead th {\n",
       "        text-align: right;\n",
       "    }\n",
       "</style>\n",
       "<table border=\"1\" class=\"dataframe\">\n",
       "  <thead>\n",
       "    <tr style=\"text-align: right;\">\n",
       "      <th></th>\n",
       "      <th>Age</th>\n",
       "      <th>Family_Cnt</th>\n",
       "      <th>New_fare</th>\n",
       "      <th>Sex_male</th>\n",
       "      <th>Pclass_2</th>\n",
       "      <th>Pclass_3</th>\n",
       "      <th>Embarked_Q</th>\n",
       "      <th>Embarked_S</th>\n",
       "      <th>Cabin_ind_1</th>\n",
       "    </tr>\n",
       "  </thead>\n",
       "  <tbody>\n",
       "    <tr>\n",
       "      <th>Age</th>\n",
       "      <td>1.00</td>\n",
       "      <td>-0.25</td>\n",
       "      <td>0.13</td>\n",
       "      <td>0.08</td>\n",
       "      <td>0.01</td>\n",
       "      <td>-0.28</td>\n",
       "      <td>-0.01</td>\n",
       "      <td>-0.02</td>\n",
       "      <td>0.23</td>\n",
       "    </tr>\n",
       "    <tr>\n",
       "      <th>Family_Cnt</th>\n",
       "      <td>-0.25</td>\n",
       "      <td>1.00</td>\n",
       "      <td>0.30</td>\n",
       "      <td>-0.20</td>\n",
       "      <td>-0.04</td>\n",
       "      <td>0.07</td>\n",
       "      <td>-0.06</td>\n",
       "      <td>0.08</td>\n",
       "      <td>-0.01</td>\n",
       "    </tr>\n",
       "    <tr>\n",
       "      <th>New_fare</th>\n",
       "      <td>0.13</td>\n",
       "      <td>0.30</td>\n",
       "      <td>1.00</td>\n",
       "      <td>-0.24</td>\n",
       "      <td>-0.12</td>\n",
       "      <td>-0.54</td>\n",
       "      <td>-0.15</td>\n",
       "      <td>-0.15</td>\n",
       "      <td>0.61</td>\n",
       "    </tr>\n",
       "    <tr>\n",
       "      <th>Sex_male</th>\n",
       "      <td>0.08</td>\n",
       "      <td>-0.20</td>\n",
       "      <td>-0.24</td>\n",
       "      <td>1.00</td>\n",
       "      <td>-0.06</td>\n",
       "      <td>0.14</td>\n",
       "      <td>-0.07</td>\n",
       "      <td>0.12</td>\n",
       "      <td>-0.14</td>\n",
       "    </tr>\n",
       "    <tr>\n",
       "      <th>Pclass_2</th>\n",
       "      <td>0.01</td>\n",
       "      <td>-0.04</td>\n",
       "      <td>-0.12</td>\n",
       "      <td>-0.06</td>\n",
       "      <td>1.00</td>\n",
       "      <td>-0.57</td>\n",
       "      <td>-0.13</td>\n",
       "      <td>0.19</td>\n",
       "      <td>-0.17</td>\n",
       "    </tr>\n",
       "    <tr>\n",
       "      <th>Pclass_3</th>\n",
       "      <td>-0.28</td>\n",
       "      <td>0.07</td>\n",
       "      <td>-0.54</td>\n",
       "      <td>0.14</td>\n",
       "      <td>-0.57</td>\n",
       "      <td>1.00</td>\n",
       "      <td>0.24</td>\n",
       "      <td>-0.02</td>\n",
       "      <td>-0.54</td>\n",
       "    </tr>\n",
       "    <tr>\n",
       "      <th>Embarked_Q</th>\n",
       "      <td>-0.01</td>\n",
       "      <td>-0.06</td>\n",
       "      <td>-0.15</td>\n",
       "      <td>-0.07</td>\n",
       "      <td>-0.13</td>\n",
       "      <td>0.24</td>\n",
       "      <td>1.00</td>\n",
       "      <td>-0.50</td>\n",
       "      <td>-0.13</td>\n",
       "    </tr>\n",
       "    <tr>\n",
       "      <th>Embarked_S</th>\n",
       "      <td>-0.02</td>\n",
       "      <td>0.08</td>\n",
       "      <td>-0.15</td>\n",
       "      <td>0.12</td>\n",
       "      <td>0.19</td>\n",
       "      <td>-0.02</td>\n",
       "      <td>-0.50</td>\n",
       "      <td>1.00</td>\n",
       "      <td>-0.10</td>\n",
       "    </tr>\n",
       "    <tr>\n",
       "      <th>Cabin_ind_1</th>\n",
       "      <td>0.23</td>\n",
       "      <td>-0.01</td>\n",
       "      <td>0.61</td>\n",
       "      <td>-0.14</td>\n",
       "      <td>-0.17</td>\n",
       "      <td>-0.54</td>\n",
       "      <td>-0.13</td>\n",
       "      <td>-0.10</td>\n",
       "      <td>1.00</td>\n",
       "    </tr>\n",
       "  </tbody>\n",
       "</table>\n",
       "</div>"
      ],
      "text/plain": [
       "              Age  Family_Cnt  New_fare  Sex_male  Pclass_2  Pclass_3  \\\n",
       "Age          1.00       -0.25      0.13      0.08      0.01     -0.28   \n",
       "Family_Cnt  -0.25        1.00      0.30     -0.20     -0.04      0.07   \n",
       "New_fare     0.13        0.30      1.00     -0.24     -0.12     -0.54   \n",
       "Sex_male     0.08       -0.20     -0.24      1.00     -0.06      0.14   \n",
       "Pclass_2     0.01       -0.04     -0.12     -0.06      1.00     -0.57   \n",
       "Pclass_3    -0.28        0.07     -0.54      0.14     -0.57      1.00   \n",
       "Embarked_Q  -0.01       -0.06     -0.15     -0.07     -0.13      0.24   \n",
       "Embarked_S  -0.02        0.08     -0.15      0.12      0.19     -0.02   \n",
       "Cabin_ind_1  0.23       -0.01      0.61     -0.14     -0.17     -0.54   \n",
       "\n",
       "             Embarked_Q  Embarked_S  Cabin_ind_1  \n",
       "Age               -0.01       -0.02         0.23  \n",
       "Family_Cnt        -0.06        0.08        -0.01  \n",
       "New_fare          -0.15       -0.15         0.61  \n",
       "Sex_male          -0.07        0.12        -0.14  \n",
       "Pclass_2          -0.13        0.19        -0.17  \n",
       "Pclass_3           0.24       -0.02        -0.54  \n",
       "Embarked_Q         1.00       -0.50        -0.13  \n",
       "Embarked_S        -0.50        1.00        -0.10  \n",
       "Cabin_ind_1       -0.13       -0.10         1.00  "
      ]
     },
     "execution_count": 10,
     "metadata": {},
     "output_type": "execute_result"
    }
   ],
   "source": [
    "#Check for multi-collinearity among independent variables\n",
    "cormat = X.corr()\n",
    "round(cormat,2)"
   ]
  },
  {
   "cell_type": "code",
   "execution_count": 11,
   "id": "7dc3a6e9",
   "metadata": {},
   "outputs": [],
   "source": [
    "# 'import' - imports an entire code library, 'from import' - imports a specific member or members of the library.\n",
    "\n",
    "# Split the dataset into training and testing set\n",
    "from sklearn.model_selection import train_test_split \n",
    "\n",
    "X_train_data, X_test_data, Y_train_data, Y_test_data = train_test_split(X, Y, test_size=0.2, random_state=420) # test_size= 0.2 for 80-20 split of dataset"
   ]
  },
  {
   "cell_type": "code",
   "execution_count": 12,
   "id": "4764d78d",
   "metadata": {},
   "outputs": [
    {
     "name": "stdout",
     "output_type": "stream",
     "text": [
      "Help on function train_test_split in module sklearn.model_selection._split:\n",
      "\n",
      "train_test_split(*arrays, test_size=None, train_size=None, random_state=None, shuffle=True, stratify=None)\n",
      "    Split arrays or matrices into random train and test subsets.\n",
      "    \n",
      "    Quick utility that wraps input validation and\n",
      "    ``next(ShuffleSplit().split(X, y))`` and application to input data\n",
      "    into a single call for splitting (and optionally subsampling) data in a\n",
      "    oneliner.\n",
      "    \n",
      "    Read more in the :ref:`User Guide <cross_validation>`.\n",
      "    \n",
      "    Parameters\n",
      "    ----------\n",
      "    *arrays : sequence of indexables with same length / shape[0]\n",
      "        Allowed inputs are lists, numpy arrays, scipy-sparse\n",
      "        matrices or pandas dataframes.\n",
      "    \n",
      "    test_size : float or int, default=None\n",
      "        If float, should be between 0.0 and 1.0 and represent the proportion\n",
      "        of the dataset to include in the test split. If int, represents the\n",
      "        absolute number of test samples. If None, the value is set to the\n",
      "        complement of the train size. If ``train_size`` is also None, it will\n",
      "        be set to 0.25.\n",
      "    \n",
      "    train_size : float or int, default=None\n",
      "        If float, should be between 0.0 and 1.0 and represent the\n",
      "        proportion of the dataset to include in the train split. If\n",
      "        int, represents the absolute number of train samples. If None,\n",
      "        the value is automatically set to the complement of the test size.\n",
      "    \n",
      "    random_state : int, RandomState instance or None, default=None\n",
      "        Controls the shuffling applied to the data before applying the split.\n",
      "        Pass an int for reproducible output across multiple function calls.\n",
      "        See :term:`Glossary <random_state>`.\n",
      "    \n",
      "    shuffle : bool, default=True\n",
      "        Whether or not to shuffle the data before splitting. If shuffle=False\n",
      "        then stratify must be None.\n",
      "    \n",
      "    stratify : array-like, default=None\n",
      "        If not None, data is split in a stratified fashion, using this as\n",
      "        the class labels.\n",
      "        Read more in the :ref:`User Guide <stratification>`.\n",
      "    \n",
      "    Returns\n",
      "    -------\n",
      "    splitting : list, length=2 * len(arrays)\n",
      "        List containing train-test split of inputs.\n",
      "    \n",
      "        .. versionadded:: 0.16\n",
      "            If the input is sparse, the output will be a\n",
      "            ``scipy.sparse.csr_matrix``. Else, output type is the same as the\n",
      "            input type.\n",
      "    \n",
      "    Examples\n",
      "    --------\n",
      "    >>> import numpy as np\n",
      "    >>> from sklearn.model_selection import train_test_split\n",
      "    >>> X, y = np.arange(10).reshape((5, 2)), range(5)\n",
      "    >>> X\n",
      "    array([[0, 1],\n",
      "           [2, 3],\n",
      "           [4, 5],\n",
      "           [6, 7],\n",
      "           [8, 9]])\n",
      "    >>> list(y)\n",
      "    [0, 1, 2, 3, 4]\n",
      "    \n",
      "    >>> X_train, X_test, y_train, y_test = train_test_split(\n",
      "    ...     X, y, test_size=0.33, random_state=42)\n",
      "    ...\n",
      "    >>> X_train\n",
      "    array([[4, 5],\n",
      "           [0, 1],\n",
      "           [6, 7]])\n",
      "    >>> y_train\n",
      "    [2, 0, 3]\n",
      "    >>> X_test\n",
      "    array([[2, 3],\n",
      "           [8, 9]])\n",
      "    >>> y_test\n",
      "    [1, 4]\n",
      "    \n",
      "    >>> train_test_split(y, shuffle=False)\n",
      "    [[0, 1, 2], [3, 4]]\n",
      "\n"
     ]
    }
   ],
   "source": [
    "help(train_test_split)"
   ]
  },
  {
   "cell_type": "code",
   "execution_count": 13,
   "id": "62a5c6b8",
   "metadata": {},
   "outputs": [
    {
     "name": "stdout",
     "output_type": "stream",
     "text": [
      "(712, 9)\n",
      "(179, 9)\n",
      "(712,)\n",
      "(179,)\n"
     ]
    }
   ],
   "source": [
    "#Check the shape of train and test data\n",
    "\n",
    "print(X_train_data.shape)\n",
    "print(X_test_data.shape)\n",
    "print(Y_train_data.shape)\n",
    "print(Y_test_data.shape)\n",
    "\n",
    "# To check if there exists a class imbalance\n",
    "#Y_train_data.value_counts()\n",
    "#Y_test_data.value_counts()\n"
   ]
  },
  {
   "cell_type": "markdown",
   "id": "9ae1493c",
   "metadata": {},
   "source": [
    "# Steps while using sklearn for modeling"
   ]
  },
  {
   "cell_type": "code",
   "execution_count": 15,
   "id": "1edbd587",
   "metadata": {},
   "outputs": [],
   "source": [
    "# Import the Logistic Regression model from the sklearn (also known as Scikit-learn) library  \n",
    "\n",
    "from sklearn.linear_model import LogisticRegression"
   ]
  },
  {
   "cell_type": "code",
   "execution_count": 16,
   "id": "d75f3646",
   "metadata": {},
   "outputs": [],
   "source": [
    "# Instantiate the model\n",
    "\n",
    "lr_model = LogisticRegression() # by default max_iter=100"
   ]
  },
  {
   "cell_type": "code",
   "execution_count": 17,
   "id": "b30ec9e5",
   "metadata": {},
   "outputs": [
    {
     "data": {
      "text/plain": [
       "LogisticRegression()"
      ]
     },
     "execution_count": 17,
     "metadata": {},
     "output_type": "execute_result"
    }
   ],
   "source": [
    "# Fit logistic regression\n",
    "\n",
    "lr_model.fit(X_train_data,Y_train_data)"
   ]
  },
  {
   "cell_type": "code",
   "execution_count": 18,
   "id": "b34a3cb1",
   "metadata": {},
   "outputs": [],
   "source": [
    "# Predict using the model for test data\n",
    "\n",
    "predictions = lr_model.predict(X_test_data)"
   ]
  },
  {
   "cell_type": "code",
   "execution_count": 19,
   "id": "8ec7f998",
   "metadata": {},
   "outputs": [
    {
     "data": {
      "text/plain": [
       "array([0, 0, 1, 0, 1, 1, 1, 0, 0, 0, 1, 1, 1, 0, 0, 0, 0, 0, 1, 0, 0, 0,\n",
       "       0, 1, 0, 0, 0, 0, 0, 0, 0, 1, 0, 0, 1, 0, 0, 0, 1, 0, 0, 1, 0, 1,\n",
       "       1, 0, 1, 0, 0, 0, 0, 0, 0, 0, 0, 1, 0, 0, 0, 0, 0, 0, 1, 1, 1, 0,\n",
       "       0, 0, 1, 1, 1, 0, 0, 1, 0, 0, 0, 1, 0, 0, 0, 0, 1, 0, 1, 0, 0, 0,\n",
       "       0, 0, 0, 0, 1, 1, 1, 1, 1, 1, 0, 0, 1, 0, 0, 0, 0, 1, 1, 0, 1, 1,\n",
       "       0, 1, 0, 0, 0, 0, 1, 1, 0, 0, 1, 0, 0, 0, 0, 1, 0, 0, 0, 1, 0, 0,\n",
       "       1, 1, 1, 1, 0, 0, 0, 0, 0, 0, 0, 1, 1, 0, 0, 0, 0, 0, 0, 0, 1, 0,\n",
       "       0, 1, 0, 1, 1, 1, 1, 0, 1, 0, 0, 0, 1, 0, 0, 0, 0, 0, 1, 0, 0, 1,\n",
       "       0, 1, 1], dtype=int64)"
      ]
     },
     "execution_count": 19,
     "metadata": {},
     "output_type": "execute_result"
    }
   ],
   "source": [
    "# Check how the predictions look (the output of lr is a probability that is converted to binary classification using a cutoff)\n",
    "\n",
    "predictions"
   ]
  },
  {
   "cell_type": "code",
   "execution_count": 20,
   "id": "b7430efb",
   "metadata": {},
   "outputs": [
    {
     "data": {
      "text/plain": [
       "array([[0.78083727, 0.21916273],\n",
       "       [0.71038884, 0.28961116],\n",
       "       [0.31804384, 0.68195616],\n",
       "       [0.87661338, 0.12338662],\n",
       "       [0.21239508, 0.78760492],\n",
       "       [0.07986437, 0.92013563],\n",
       "       [0.13398405, 0.86601595],\n",
       "       [0.94552035, 0.05447965],\n",
       "       [0.66321596, 0.33678404],\n",
       "       [0.84163142, 0.15836858],\n",
       "       [0.1378373 , 0.8621627 ],\n",
       "       [0.3804325 , 0.6195675 ],\n",
       "       [0.2809611 , 0.7190389 ],\n",
       "       [0.92390609, 0.07609391],\n",
       "       [0.85192763, 0.14807237],\n",
       "       [0.98055169, 0.01944831],\n",
       "       [0.87961434, 0.12038566],\n",
       "       [0.85192763, 0.14807237],\n",
       "       [0.16213178, 0.83786822],\n",
       "       [0.68377963, 0.31622037],\n",
       "       [0.93952586, 0.06047414],\n",
       "       [0.85484246, 0.14515754],\n",
       "       [0.58294745, 0.41705255],\n",
       "       [0.40291178, 0.59708822],\n",
       "       [0.72885475, 0.27114525],\n",
       "       [0.94316678, 0.05683322],\n",
       "       [0.90663499, 0.09336501],\n",
       "       [0.89731462, 0.10268538],\n",
       "       [0.85010989, 0.14989011],\n",
       "       [0.9450518 , 0.0549482 ],\n",
       "       [0.85454775, 0.14545225],\n",
       "       [0.40260552, 0.59739448],\n",
       "       [0.71924892, 0.28075108],\n",
       "       [0.88881244, 0.11118756],\n",
       "       [0.03907439, 0.96092561],\n",
       "       [0.87946892, 0.12053108],\n",
       "       [0.72091663, 0.27908337],\n",
       "       [0.90872789, 0.09127211],\n",
       "       [0.10746513, 0.89253487],\n",
       "       [0.9094539 , 0.0905461 ],\n",
       "       [0.91505432, 0.08494568],\n",
       "       [0.16051193, 0.83948807],\n",
       "       [0.89467185, 0.10532815],\n",
       "       [0.37815927, 0.62184073],\n",
       "       [0.1360391 , 0.8639609 ],\n",
       "       [0.81124557, 0.18875443],\n",
       "       [0.26445847, 0.73554153],\n",
       "       [0.57016579, 0.42983421],\n",
       "       [0.85100186, 0.14899814],\n",
       "       [0.92638007, 0.07361993],\n",
       "       [0.92772347, 0.07227653],\n",
       "       [0.87213868, 0.12786132],\n",
       "       [0.90872789, 0.09127211],\n",
       "       [0.98519245, 0.01480755],\n",
       "       [0.75289864, 0.24710136],\n",
       "       [0.14309748, 0.85690252],\n",
       "       [0.93567551, 0.06432449],\n",
       "       [0.88320501, 0.11679499],\n",
       "       [0.87398769, 0.12601231],\n",
       "       [0.70588751, 0.29411249],\n",
       "       [0.87187622, 0.12812378],\n",
       "       [0.51232871, 0.48767129],\n",
       "       [0.06107389, 0.93892611],\n",
       "       [0.38033544, 0.61966456],\n",
       "       [0.10732039, 0.89267961],\n",
       "       [0.72208389, 0.27791611],\n",
       "       [0.87670162, 0.12329838],\n",
       "       [0.63572032, 0.36427968],\n",
       "       [0.09607556, 0.90392444],\n",
       "       [0.27061194, 0.72938806],\n",
       "       [0.0380192 , 0.9619808 ],\n",
       "       [0.88172437, 0.11827563],\n",
       "       [0.86732204, 0.13267796],\n",
       "       [0.25572335, 0.74427665],\n",
       "       [0.92326673, 0.07673327],\n",
       "       [0.95531924, 0.04468076],\n",
       "       [0.77321449, 0.22678551],\n",
       "       [0.22240117, 0.77759883],\n",
       "       [0.91888121, 0.08111879],\n",
       "       [0.72091663, 0.27908337],\n",
       "       [0.80848364, 0.19151636],\n",
       "       [0.9072689 , 0.0927311 ],\n",
       "       [0.40159161, 0.59840839],\n",
       "       [0.93063314, 0.06936686],\n",
       "       [0.29043603, 0.70956397],\n",
       "       [0.90886823, 0.09113177],\n",
       "       [0.64067165, 0.35932835],\n",
       "       [0.91753584, 0.08246416],\n",
       "       [0.86441485, 0.13558515],\n",
       "       [0.90829791, 0.09170209],\n",
       "       [0.89149378, 0.10850622],\n",
       "       [0.67872873, 0.32127127],\n",
       "       [0.11085493, 0.88914507],\n",
       "       [0.02967871, 0.97032129],\n",
       "       [0.26454599, 0.73545401],\n",
       "       [0.48264611, 0.51735389],\n",
       "       [0.20276908, 0.79723092],\n",
       "       [0.03753721, 0.96246279],\n",
       "       [0.53288291, 0.46711709],\n",
       "       [0.76500392, 0.23499608],\n",
       "       [0.23026082, 0.76973918],\n",
       "       [0.5105027 , 0.4894973 ],\n",
       "       [0.90065839, 0.09934161],\n",
       "       [0.90886823, 0.09113177],\n",
       "       [0.93522845, 0.06477155],\n",
       "       [0.0873597 , 0.9126403 ],\n",
       "       [0.32771803, 0.67228197],\n",
       "       [0.87875413, 0.12124587],\n",
       "       [0.07027178, 0.92972822],\n",
       "       [0.41073809, 0.58926191],\n",
       "       [0.70804477, 0.29195523],\n",
       "       [0.06411927, 0.93588073],\n",
       "       [0.74835407, 0.25164593],\n",
       "       [0.79126271, 0.20873729],\n",
       "       [0.89967137, 0.10032863],\n",
       "       [0.86763763, 0.13236237],\n",
       "       [0.23962856, 0.76037144],\n",
       "       [0.36455716, 0.63544284],\n",
       "       [0.6645568 , 0.3354432 ],\n",
       "       [0.91542701, 0.08457299],\n",
       "       [0.37926256, 0.62073744],\n",
       "       [0.85192763, 0.14807237],\n",
       "       [0.73996271, 0.26003729],\n",
       "       [0.74647267, 0.25352733],\n",
       "       [0.89715849, 0.10284151],\n",
       "       [0.43204569, 0.56795431],\n",
       "       [0.92754899, 0.07245101],\n",
       "       [0.70210342, 0.29789658],\n",
       "       [0.94907273, 0.05092727],\n",
       "       [0.38047572, 0.61952428],\n",
       "       [0.89814092, 0.10185908],\n",
       "       [0.93510626, 0.06489374],\n",
       "       [0.28787795, 0.71212205],\n",
       "       [0.29400315, 0.70599685],\n",
       "       [0.33543506, 0.66456494],\n",
       "       [0.42181362, 0.57818638],\n",
       "       [0.95243001, 0.04756999],\n",
       "       [0.77916392, 0.22083608],\n",
       "       [0.93882802, 0.06117198],\n",
       "       [0.903714  , 0.096286  ],\n",
       "       [0.90140043, 0.09859957],\n",
       "       [0.78691534, 0.21308466],\n",
       "       [0.87850325, 0.12149675],\n",
       "       [0.36455716, 0.63544284],\n",
       "       [0.08979997, 0.91020003],\n",
       "       [0.66322256, 0.33677744],\n",
       "       [0.70631628, 0.29368372],\n",
       "       [0.90872789, 0.09127211],\n",
       "       [0.95556468, 0.04443532],\n",
       "       [0.75341257, 0.24658743],\n",
       "       [0.91876448, 0.08123552],\n",
       "       [0.70061328, 0.29938672],\n",
       "       [0.10589272, 0.89410728],\n",
       "       [0.90872789, 0.09127211],\n",
       "       [0.86798405, 0.13201595],\n",
       "       [0.29333979, 0.70666021],\n",
       "       [0.90527842, 0.09472158],\n",
       "       [0.46827546, 0.53172454],\n",
       "       [0.20399227, 0.79600773],\n",
       "       [0.06042694, 0.93957306],\n",
       "       [0.43639395, 0.56360605],\n",
       "       [0.89186521, 0.10813479],\n",
       "       [0.20276908, 0.79723092],\n",
       "       [0.80848364, 0.19151636],\n",
       "       [0.95362375, 0.04637625],\n",
       "       [0.94813585, 0.05186415],\n",
       "       [0.08326964, 0.91673036],\n",
       "       [0.82583113, 0.17416887],\n",
       "       [0.89643502, 0.10356498],\n",
       "       [0.86436065, 0.13563935],\n",
       "       [0.5078887 , 0.4921113 ],\n",
       "       [0.7972926 , 0.2027074 ],\n",
       "       [0.0810473 , 0.9189527 ],\n",
       "       [0.98519245, 0.01480755],\n",
       "       [0.9187009 , 0.0812991 ],\n",
       "       [0.41421321, 0.58578679],\n",
       "       [0.95804183, 0.04195817],\n",
       "       [0.13172082, 0.86827918],\n",
       "       [0.27346049, 0.72653951]])"
      ]
     },
     "execution_count": 20,
     "metadata": {},
     "output_type": "execute_result"
    }
   ],
   "source": [
    "# Output of logistic regression - predicted probability between 0 and 1\n",
    "\n",
    "lr_model.predict_proba(X_test_data)"
   ]
  },
  {
   "cell_type": "code",
   "execution_count": 21,
   "id": "751c4f5a",
   "metadata": {},
   "outputs": [
    {
     "name": "stdout",
     "output_type": "stream",
     "text": [
      "training accuracy: 0.81\n",
      "test accuracy: 0.83\n"
     ]
    }
   ],
   "source": [
    "# Evaluate the model - check the accuracy of the model\n",
    "\n",
    "print('training accuracy:', round(lr_model.score(X_train_data, Y_train_data),2))\n",
    "print('test accuracy:',round(lr_model.score(X_test_data, Y_test_data),2))"
   ]
  },
  {
   "cell_type": "markdown",
   "id": "e6af126e",
   "metadata": {},
   "source": [
    "# Profiles\n",
    "\n",
    "Independent Variables (Predictors):\n",
    "Age \tFamily_Cnt \tNew_fare \tSex_male \tPclass_2 \tPclass_3 \tEmbarked_Q \tEmbarked_S \tCabin_ind_1\n",
    "\n",
    "Profile 1: Jack, a “20 year old” “third class” “male” passenger, won a hand of poker and his ticket to the land of the free.\n",
    "jack_data = [20,0,0,1,0,1,0,1,0]\n",
    "\n",
    "Profile 2: my_data = [36,2,0,1,1,0,0,1,0]\n",
    "\n"
   ]
  },
  {
   "cell_type": "code",
   "execution_count": 22,
   "id": "2f0b2da0",
   "metadata": {},
   "outputs": [
    {
     "name": "stdout",
     "output_type": "stream",
     "text": [
      "Jack - Survived: 0\n"
     ]
    }
   ],
   "source": [
    "# define a single row of input data\n",
    "jack_data = [20,0,0,1,0,1,0,1,0]\n",
    "# predict the class label\n",
    "jack = lr_model.predict([jack_data])\n",
    "# summarize the predicted class\n",
    "print('Jack - Survived: %d' % jack[0])"
   ]
  },
  {
   "cell_type": "code",
   "execution_count": 23,
   "id": "fdc99a22",
   "metadata": {},
   "outputs": [
    {
     "name": "stdout",
     "output_type": "stream",
     "text": [
      "Saikat - Survived: 0\n"
     ]
    }
   ],
   "source": [
    "my_data = [36,2,0,1,1,0,0,1,0]\n",
    "me = lr_model.predict([my_data])\n",
    "\n",
    "print('Saikat - Survived: %d' % me[0])"
   ]
  },
  {
   "cell_type": "code",
   "execution_count": 24,
   "id": "5f7aa04a",
   "metadata": {},
   "outputs": [
    {
     "name": "stdout",
     "output_type": "stream",
     "text": [
      "After tweaking data - Survived: 1\n"
     ]
    }
   ],
   "source": [
    "modified_data = [36,2,0,0,1,0,0,1,0]\n",
    "not_me = lr_model.predict([modified_data])\n",
    "\n",
    "print('After tweaking data - Survived: %d' % not_me[0])"
   ]
  },
  {
   "cell_type": "markdown",
   "id": "59d001af",
   "metadata": {},
   "source": [
    "# Further analysis"
   ]
  },
  {
   "cell_type": "code",
   "execution_count": 25,
   "id": "8dc05ee6",
   "metadata": {},
   "outputs": [
    {
     "name": "stdout",
     "output_type": "stream",
     "text": [
      "0.8324022346368715\n"
     ]
    }
   ],
   "source": [
    "# Accuracy Score\n",
    "from sklearn.metrics import accuracy_score\n",
    "\n",
    "print(accuracy_score(Y_test_data, predictions))"
   ]
  },
  {
   "cell_type": "code",
   "execution_count": 26,
   "id": "bcea211b",
   "metadata": {},
   "outputs": [
    {
     "name": "stdout",
     "output_type": "stream",
     "text": [
      "Confusion matrix\n",
      "\n",
      " [[96  9]\n",
      " [21 53]]\n"
     ]
    }
   ],
   "source": [
    "# Print the Confusion Matrix and slice it into four pieces\n",
    "\n",
    "from sklearn.metrics import confusion_matrix\n",
    "cm = confusion_matrix(Y_test_data, predictions)\n",
    "print('Confusion matrix\\n\\n', cm)"
   ]
  },
  {
   "cell_type": "code",
   "execution_count": 34,
   "id": "0f86007e",
   "metadata": {},
   "outputs": [
    {
     "name": "stdout",
     "output_type": "stream",
     "text": [
      "Confusion Matrix (Accuracy 0.8324)\n",
      "\n",
      "             Prediction\n",
      "      Actual not-survived     survived\n",
      "not-survived           96            9\n",
      "    survived           21           53\n"
     ]
    }
   ],
   "source": [
    "#!pip install dmba # to install a package in jupyter otherwise can install in Anaconda shell \n",
    "\n",
    "from dmba import classificationSummary # another method to generate the confusion matrix, accuracy\n",
    "classificationSummary(Y_test_data, predictions, class_names = ['not-survived','survived'])"
   ]
  },
  {
   "cell_type": "code",
   "execution_count": 27,
   "id": "556ee8f8",
   "metadata": {},
   "outputs": [
    {
     "data": {
      "text/plain": [
       "<AxesSubplot:>"
      ]
     },
     "execution_count": 27,
     "metadata": {},
     "output_type": "execute_result"
    },
    {
     "data": {
      "image/png": "[encoded data removed]",
      "text/plain": [
       "<Figure size 432x288 with 2 Axes>"
      ]
     },
     "metadata": {
      "needs_background": "light"
     },
     "output_type": "display_data"
    }
   ],
   "source": [
    "# visualize confusion matrix with seaborn heatmap\n",
    "\n",
    "cm_matrix = pd.DataFrame(data=cm, columns=['Predicted -ve:0', 'Predicted +ve:1'], \n",
    "                                 index=['Actual -ve:0', 'Actual +ve:1'])\n",
    "\n",
    "sns.heatmap(cm_matrix, annot=True, fmt='d', cmap='YlGnBu')"
   ]
  },
  {
   "cell_type": "code",
   "execution_count": 28,
   "id": "fb22bada",
   "metadata": {},
   "outputs": [
    {
     "data": {
      "text/plain": [
       "0.8324022346368715"
      ]
     },
     "execution_count": 28,
     "metadata": {},
     "output_type": "execute_result"
    }
   ],
   "source": [
    "# Accuracy = (TP+TN)/(Total) (manually calculated is same as obtained from lr_model.score)\n",
    "\n",
    "(96+53)/(96+9+21+53)"
   ]
  },
  {
   "cell_type": "markdown",
   "id": "055707a2",
   "metadata": {},
   "source": [
    "# Precision & Recall: When One Class is More Important\n",
    "\n",
    "In many cases, it is more important to identify members of one class, e.g.,\n",
    "Tax fraud\n",
    "Credit default\n",
    "Response to a promotional offer\n",
    "Predicting delayed flights\n",
    "However data has class imbalance.\n",
    "\n",
    "In such cases, we will either increase or decrease the cut-off to better identify the important class for further attention\n",
    "\n",
    "We may be willing to tolerate greater overall error in return for better identifying the important class.\n",
    "\n",
    "Recall – we don’t want to miss anyone (false classifying is fine), trying to reduce false negative (false positive increases as a consequence)\n",
    "\n",
    "Precision - we want to reduce false positive by changing the cut-off as a consequence the false negative increases.\n",
    "\n",
    "There is always a trade-off between Precision and Recall\n"
   ]
  },
  {
   "cell_type": "code",
   "execution_count": 32,
   "id": "334e494a",
   "metadata": {},
   "outputs": [
    {
     "name": "stdout",
     "output_type": "stream",
     "text": [
      "0.8548387096774194\n"
     ]
    }
   ],
   "source": [
    "# Precision = TP/(TP+FP)\n",
    "# True positive/ Predicted positive\n",
    "\n",
    "print(53/(53+9))"
   ]
  },
  {
   "cell_type": "code",
   "execution_count": 33,
   "id": "c655e5ff",
   "metadata": {},
   "outputs": [
    {
     "name": "stdout",
     "output_type": "stream",
     "text": [
      "0.7162162162162162\n"
     ]
    }
   ],
   "source": [
    "# Recall = TP/(TP+FN)\n",
    "# True positive/ Actual positive\n",
    "\n",
    "print(53/(53+21))"
   ]
  },
  {
   "cell_type": "code",
   "execution_count": null,
   "id": "4a8b1417",
   "metadata": {},
   "outputs": [],
   "source": [
    "prediction_prob = lr_model.predict_proba(X_test_data)\n",
    "prediction_prob"
   ]
  },
  {
   "cell_type": "code",
   "execution_count": 35,
   "id": "1a8c6173",
   "metadata": {},
   "outputs": [],
   "source": [
    "#Try different cut-off (say 0.8) and check precision and recall (by default cut-off is 0.5)\n",
    "\n",
    "prediction_prob = lr_model.predict_proba(X_test_data)[:,1] # take the second column which is the probability for survived (i.e., 1, column 0 is the probability for not survived (i.e., 0)\n",
    "\n",
    "\n",
    "#as cut-off i.e., predictions_threshold is increased from 0.5 to 0.8, precision increase (since as threshold increases FP of survived in denominator is less), however recall decrease\n",
    "\n",
    "prediction_prob[prediction_prob > 0.8] = 1 \n",
    "prediction_prob[prediction_prob <= 0.8] = 0\n",
    "\n"
   ]
  },
  {
   "cell_type": "code",
   "execution_count": 36,
   "id": "16e7d1a6",
   "metadata": {},
   "outputs": [
    {
     "name": "stdout",
     "output_type": "stream",
     "text": [
      "Confusion Matrix (Accuracy 0.7151)\n",
      "\n",
      "             Prediction\n",
      "      Actual not-survived     survived\n",
      "not-survived          104            1\n",
      "    survived           50           24\n"
     ]
    }
   ],
   "source": [
    "classificationSummary(Y_test_data, prediction_prob, class_names = ['not-survived','survived'])"
   ]
  },
  {
   "cell_type": "code",
   "execution_count": 37,
   "id": "c1f9b1c2",
   "metadata": {},
   "outputs": [
    {
     "name": "stdout",
     "output_type": "stream",
     "text": [
      "0.96\n"
     ]
    }
   ],
   "source": [
    "# Precision = TP/(TP+FP)\n",
    "# True positive/ Predicted positive\n",
    "\n",
    "print(24/(24+1))"
   ]
  },
  {
   "cell_type": "code",
   "execution_count": 38,
   "id": "81cfdea2",
   "metadata": {},
   "outputs": [
    {
     "name": "stdout",
     "output_type": "stream",
     "text": [
      "0.32432432432432434\n"
     ]
    }
   ],
   "source": [
    "# Recall = TP/(TP+FN)\n",
    "# True positive/ Actual positive\n",
    "\n",
    "print(24/(24+50))"
   ]
  },
  {
   "cell_type": "code",
   "execution_count": 39,
   "id": "cbae2f61",
   "metadata": {},
   "outputs": [
    {
     "data": {
      "image/png": "[encoded data removed]",
      "text/plain": [
       "<Figure size 432x288 with 1 Axes>"
      ]
     },
     "metadata": {
      "needs_background": "light"
     },
     "output_type": "display_data"
    }
   ],
   "source": [
    "from sklearn.metrics import precision_recall_curve\n",
    "# Generate precision recall curve values: precision, recall, thresholds/ cut-offs\n",
    "precision, recall, thresholds = precision_recall_curve(Y_test_data, prediction_prob)\n",
    "\n",
    "# Plot Precision Recall curve\n",
    "plt.plot(precision, recall)\n",
    "plt.xlabel('Recall')\n",
    "plt.ylabel('Precision')\n",
    "plt.title('Precision Recall Curve')\n",
    "plt.show()"
   ]
  },
  {
   "cell_type": "markdown",
   "id": "b90c7074",
   "metadata": {},
   "source": [
    "# Precision vs Recall\n",
    "\n",
    "If increased threshold value to 0.8, whether precision, recall will increase?\n",
    "When threshold increases, the probability of detecting positive is becoming stricter, then predicted positives will become less the denominator of precision goes down, precision will go up and recall will come down\n",
    "\n",
    "If decreased threshold value to 0.2, whether precision, recall will increase? \n",
    "The reverse happens predicted survived increase so denominator of precision becomes more precision will fall and recall will rise\n",
    "Will increase recall since most people in 1 will be predicted but at same time more people who had died will be predicted as survived."
   ]
  },
  {
   "cell_type": "markdown",
   "id": "4e85ce3d",
   "metadata": {},
   "source": [
    "# ROC Curve\n",
    "\n",
    "Plotting FPR (false-positive rate) (x-axis as 1- specificity) and TPR (true positive rate) (y-axis as sensitivity)\n",
    "\n",
    "Whether algorithm has differentiating ability – if don’t have then 45-degree line, area under the curve is an accuracy measure, more than 0.5 for good model\n",
    "\n",
    "AUC = 0.81 means fairly differentiable model\n",
    "\n"
   ]
  },
  {
   "cell_type": "code",
   "execution_count": 40,
   "id": "1411d7d2",
   "metadata": {},
   "outputs": [
    {
     "name": "stdout",
     "output_type": "stream",
     "text": [
      "AUC -  0.8152509652509652\n"
     ]
    },
    {
     "data": {
      "image/png": "[encoded data removed]",
      "text/plain": [
       "<Figure size 432x288 with 1 Axes>"
      ]
     },
     "metadata": {
      "needs_background": "light"
     },
     "output_type": "display_data"
    }
   ],
   "source": [
    "from sklearn.metrics import roc_curve, auc\n",
    "\n",
    "false_positive_rate, true_positive_rate, thresholds = roc_curve(Y_test_data, predictions)\n",
    "roc_auc = auc(false_positive_rate, true_positive_rate)\n",
    "\n",
    "print(\"AUC - \",format(roc_auc))\n",
    "# Plot Precision Recall curve\n",
    "plt.plot(false_positive_rate, true_positive_rate)\n",
    "plt.xlabel('FPR')\n",
    "plt.ylabel('TPR')\n",
    "plt.title('ROC Curve')\n",
    "plt.show()"
   ]
  },
  {
   "cell_type": "markdown",
   "id": "35efa896",
   "metadata": {},
   "source": [
    "# F-score"
   ]
  },
  {
   "cell_type": "code",
   "execution_count": 41,
   "id": "630b00f6",
   "metadata": {},
   "outputs": [
    {
     "name": "stdout",
     "output_type": "stream",
     "text": [
      "              precision    recall  f1-score   support\n",
      "\n",
      "           0       0.82      0.91      0.86       105\n",
      "           1       0.85      0.72      0.78        74\n",
      "\n",
      "    accuracy                           0.83       179\n",
      "   macro avg       0.84      0.82      0.82       179\n",
      "weighted avg       0.83      0.83      0.83       179\n",
      "\n"
     ]
    }
   ],
   "source": [
    "from sklearn.metrics import classification_report \n",
    "print(classification_report(Y_test_data, predictions))"
   ]
  },
  {
   "cell_type": "markdown",
   "id": "dee5df5c",
   "metadata": {},
   "source": [
    "# Explore: Alternative library for  Classification using Logistic Regression - Stats Model"
   ]
  },
  {
   "cell_type": "markdown",
   "id": "f4509c13",
   "metadata": {},
   "source": [
    "# Explore: Alternative Algorithm for Classification using Decision Tree - DecisionTreeClassifier from sklearn.tree"
   ]
  }
 ],
 "metadata": {
  "kernelspec": {
   "display_name": "Python 3 (ipykernel)",
   "language": "python",
   "name": "python3"
  },
  "language_info": {
   "codemirror_mode": {
    "name": "ipython",
    "version": 3
   },
   "file_extension": ".py",
   "mimetype": "text/x-python",
   "name": "python",
   "nbconvert_exporter": "python",
   "pygments_lexer": "ipython3",
   "version": "3.9.12"
  }
 },
 "nbformat": 4,
 "nbformat_minor": 5
}
