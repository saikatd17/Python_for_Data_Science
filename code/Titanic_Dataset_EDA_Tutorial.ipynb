{
 "cells": [
  {
   "cell_type": "markdown",
   "id": "0f4f086a",
   "metadata": {},
   "source": [
    "# Titanic Dataset\n",
    "\n",
    "This notebook is a guide to data analysis to understand the steps that can be done to familiarize with and explore the data using Python, followed by predictive modelling.\n"
   ]
  },
  {
   "cell_type": "markdown",
   "id": "4830f73a",
   "metadata": {},
   "source": [
    "## EDA & Cleaning: Exploring continuous features\n",
    "\n",
    "Using the Titanic dataset from [this](https://www.kaggle.com/c/titanic/overview) Kaggle competition.\n",
    "\n",
    "This dataset contains information about 891 people who were on board the ship when departed on April 15th, 1912. As noted in the description on Kaggle's website, some people aboard the ship were more likely to survive the wreck than others. There were not enough lifeboats for everybody so women, children, and the upper-class were prioritized. Using the information about these 891 passengers, the challenge is to build a model to predict which people would survive based on the following fields:\n",
    "\n",
    "- **Name** (str) - Name of the passenger\n",
    "- **Pclass** (int) - Ticket class\n",
    "- **Sex** (str) - Sex of the passenger\n",
    "- **Age** (float) - Age in years\n",
    "- **SibSp** (int) - Number of siblings and spouses aboard\n",
    "- **Parch** (int) - Number of parents and children aboard\n",
    "- **Ticket** (str) - Ticket number\n",
    "- **Fare** (float) - Passenger fare\n",
    "- **Cabin** (str) - Cabin number\n",
    "- **Embarked** (str) - Port of embarkation (C = Cherbourg, Q = Queenstown, S = Southampton)\n",
    "\n",
    "**This section focuses on exploring the `Pclass`, `Age`, `SibSp`, `Parch`, and `Fare` features.**"
   ]
  },
  {
   "cell_type": "code",
   "execution_count": 1,
   "id": "456f6611",
   "metadata": {},
   "outputs": [
    {
     "ename": "SyntaxError",
     "evalue": "invalid syntax (2763413276.py, line 4)",
     "output_type": "error",
     "traceback": [
      "\u001b[1;36m  Input \u001b[1;32mIn [1]\u001b[1;36m\u001b[0m\n\u001b[1;33m    import ? as pd\u001b[0m\n\u001b[1;37m           ^\u001b[0m\n\u001b[1;31mSyntaxError\u001b[0m\u001b[1;31m:\u001b[0m invalid syntax\n"
     ]
    }
   ],
   "source": [
    "# Import data analysis libraries\n",
    "\n",
    "import numpy as np\n",
    "import ? as pd\n"
   ]
  },
  {
   "cell_type": "code",
   "execution_count": 91,
   "id": "fefe6e34-9758-45c3-8833-8d4bbf6e3d51",
   "metadata": {},
   "outputs": [],
   "source": [
    "import piplite\n",
    "await piplite.install('seaborn')\n",
    "\n",
    "# Import visualization libraries\n",
    "import matplotlib.pyplot as ?\n",
    "import seaborn as sns\n"
   ]
  },
  {
   "cell_type": "code",
   "execution_count": 92,
   "id": "1ca267df",
   "metadata": {},
   "outputs": [],
   "source": [
    "# Read in the dataset\n",
    "\n",
    "titanic = pd.read_csv(?)"
   ]
  },
  {
   "cell_type": "code",
   "execution_count": null,
   "id": "e16acc19-e69f-4c13-8147-0157c2d54e94",
   "metadata": {},
   "outputs": [],
   "source": [
    "# If we want to check out the first 10 rows, we put in 10 as the argument.\n",
    "titanic.head(?) # a method"
   ]
  },
  {
   "cell_type": "code",
   "execution_count": null,
   "id": "fa2d3383-dd70-4acd-b7d0-4cb3d763334c",
   "metadata": {},
   "outputs": [],
   "source": [
    "titanic.shape # an attribute"
   ]
  },
  {
   "cell_type": "code",
   "execution_count": null,
   "id": "1a6d919f-3ba2-4d41-b03a-ad9c9f1e91d4",
   "metadata": {},
   "outputs": [],
   "source": [
    "type(?)"
   ]
  },
  {
   "cell_type": "code",
   "execution_count": null,
   "id": "5175a99d-9c36-46d6-a07b-c41dffb1f9bc",
   "metadata": {},
   "outputs": [],
   "source": [
    "titanic.columns"
   ]
  },
  {
   "cell_type": "code",
   "execution_count": null,
   "id": "2257b33c-a1e0-4c4b-87a7-a73048248fd3",
   "metadata": {},
   "outputs": [],
   "source": [
    "titanic.info()"
   ]
  },
  {
   "cell_type": "code",
   "execution_count": null,
   "id": "70acd69a-2b99-4ce2-92a9-a1a1fc1785ef",
   "metadata": {},
   "outputs": [],
   "source": [
    "# Generate a summary of statistics for each numerical column of the data frame\n",
    "?.describe()"
   ]
  },
  {
   "cell_type": "code",
   "execution_count": null,
   "id": "c6fd68c9-facc-4e49-86f6-974653f60dc7",
   "metadata": {},
   "outputs": [],
   "source": [
    "titanic.isnull().sum()"
   ]
  },
  {
   "cell_type": "code",
   "execution_count": null,
   "id": "8a2a95fe-0254-437b-98f0-959b42792e1f",
   "metadata": {},
   "outputs": [],
   "source": [
    "titanic['Survived'].value_counts()"
   ]
  },
  {
   "cell_type": "markdown",
   "id": "4a24b07f-2463-42fd-b0cb-e820c0a97a26",
   "metadata": {},
   "source": [
    "## Exploratory Data Analysis using Visualization\n",
    "\n",
    "Data visualization is useful to gain insight and understand what happened in the past in a given context. Let us look at various plots that we can draw using Python. \n",
    "\n",
    "1. Drawing Plots \n",
    "Matplotlib is a library for creating 2D plots of arrays in Python.\n",
    "It provides extensive set of plotting APIs to create various plots such as scattered, bar, box, and distribution plots with custom styling and annotation. \n",
    "\n",
    "Seaborn is a library for making elegant charts in Python and is well integrated with Pandas DataFrame. \n",
    "It provides a high-level interface for drawing innovative and informative statistical charts. \n",
    "\n",
    "To create graphs and plots, we need to import matplotlib.pyplot and seaborn modules. \n",
    "To display the plots on the Jupyter Notebook, we need to provide a directive %matplotlib inline. \n"
   ]
  },
  {
   "cell_type": "code",
   "execution_count": null,
   "id": "390b5448-a6a1-4b1c-9b1e-2f6e83983409",
   "metadata": {},
   "outputs": [],
   "source": [
    "# to see the overall survival \n",
    "\n",
    "sns.countplot(x='Survived', data = ?)\n",
    "plt.show()"
   ]
  },
  {
   "cell_type": "markdown",
   "id": "50bd6cf0-c141-4f0a-ab3f-8130762b731c",
   "metadata": {},
   "source": [
    "seaborn.countplot\n",
    "\n",
    "Shows the counts of observations in each categorical bin using bars.\n",
    "\n",
    "seaborn.catplot\n",
    "\n",
    "Provides access to several axes-level functions that show the relationship between a numerical and one or more categorical variables using one of several visual representations."
   ]
  },
  {
   "cell_type": "code",
   "execution_count": null,
   "id": "62676996-882d-4b16-8a8e-4fcf867b64bb",
   "metadata": {},
   "outputs": [],
   "source": [
    "sns.catplot(data = titanic, x = 'Survived', kind ='count')\n",
    "plt.show()"
   ]
  },
  {
   "cell_type": "code",
   "execution_count": null,
   "id": "d24a206a-ccd8-4e59-91ec-5d0ce9744980",
   "metadata": {},
   "outputs": [],
   "source": [
    "#Try of Pclass\n",
    "\n",
    "sns.catplot(data = titanic,\n",
    "            x = 'Survived',\n",
    "            kind = ?,\n",
    "            hue = 'Pclass')"
   ]
  },
  {
   "cell_type": "code",
   "execution_count": null,
   "id": "7cf2ca07-35ea-45ab-9047-378411189b05",
   "metadata": {},
   "outputs": [],
   "source": [
    "sns.catplot(data = titanic,\n",
    "            x = 'Survived',\n",
    "            kind = 'count',\n",
    "            hue = 'Sex')"
   ]
  },
  {
   "cell_type": "code",
   "execution_count": null,
   "id": "c6d39416-0a53-43a2-a196-e75729a51635",
   "metadata": {},
   "outputs": [],
   "source": [
    "sns.catplot(data = titanic,\n",
    "            x = 'Survived',\n",
    "            kind = 'count',\n",
    "            hue = 'Pclass',\n",
    "           col='Sex')"
   ]
  },
  {
   "cell_type": "code",
   "execution_count": null,
   "id": "bf2517c8-6312-47af-b61d-789bb8969dd1",
   "metadata": {},
   "outputs": [],
   "source": [
    "sns.catplot(data = titanic,\n",
    "            x = 'Embarked',\n",
    "            col = 'Survived',\n",
    "            kind = 'count')"
   ]
  },
  {
   "cell_type": "code",
   "execution_count": null,
   "id": "bc7c5351-fb87-487b-92a3-6ca7441c4f80",
   "metadata": {},
   "outputs": [],
   "source": [
    "sns.catplot(data = titanic,\n",
    "            x = 'Pclass',\n",
    "            col = 'Survived',\n",
    "            hue = 'Embarked',\n",
    "            kind = 'count')"
   ]
  },
  {
   "cell_type": "code",
   "execution_count": null,
   "id": "c2e0a6cc-a3b6-46bf-ac29-54dae7b6073b",
   "metadata": {},
   "outputs": [],
   "source": [
    "#SibSp and Parch\n",
    "sns.catplot(data = titanic,\n",
    "            x = 'SibSp',\n",
    "            y= 'Survived',\n",
    "            kind = 'point',\n",
    "            aspect = 2,\n",
    "            errorbar = None)"
   ]
  },
  {
   "cell_type": "code",
   "execution_count": null,
   "id": "7a8f18f0-c119-475f-880f-65bc8ebeb22e",
   "metadata": {},
   "outputs": [],
   "source": [
    "sns.catplot(data = titanic,\n",
    "            x = 'Parch',\n",
    "            y= 'Survived',\n",
    "            kind = 'point',\n",
    "            aspect = 2,\n",
    "            errorbar = None)"
   ]
  },
  {
   "cell_type": "code",
   "execution_count": null,
   "id": "5c0591ae-9628-44f7-b8ff-b78b79fe17bb",
   "metadata": {},
   "outputs": [],
   "source": [
    "titanic['Family_Cnt'] = titanic['SibSp'] + titanic['Parch']\n",
    "sns.catplot(data = titanic,\n",
    "            x = 'Family_Cnt',\n",
    "            y= 'Survived',\n",
    "            kind = 'point',\n",
    "            aspect = 2,\n",
    "            errorbar = None)"
   ]
  },
  {
   "cell_type": "markdown",
   "id": "9f74e4bd-da17-41a1-9433-665707de85af",
   "metadata": {},
   "source": [
    "## Data Preprocessing\n",
    "\n",
    "From the EDA (Exploratory Data Analysis), we should have identified which variables are missing. Now, in the data preprocessing stage, we can start dealing with them. "
   ]
  },
  {
   "cell_type": "code",
   "execution_count": null,
   "id": "a0a12645-bfc0-4bdb-b275-2f04a84c640d",
   "metadata": {},
   "outputs": [],
   "source": [
    "titanic.isnull().sum()*100 / len(titanic)"
   ]
  },
  {
   "cell_type": "markdown",
   "id": "9aa4a23a-1b5a-495f-b007-9bba9acfe000",
   "metadata": {},
   "source": [
    "## Handling Missing Values\n",
    "\n",
    "In real world, the datasets are not clean and may have missing values. We must know how to find and deal with these missing values. \n",
    "\n",
    "One of the strategies to deal with missing values is to remove them from the dataset. \n",
    "\n",
    "However, whenever possible, we would like to impute the data, which is a process of filling the missing values. \n",
    "\n",
    "Let us take a look at the example on how to handle missing values. Only 3 columns out of 12 contain missing data. \n",
    "\n"
   ]
  },
  {
   "cell_type": "markdown",
   "id": "17c6b914-799f-49c1-843b-353194b5f631",
   "metadata": {},
   "source": [
    "### Drop NAs"
   ]
  },
  {
   "cell_type": "code",
   "execution_count": 114,
   "id": "5cff7e97",
   "metadata": {},
   "outputs": [],
   "source": [
    "titanic_new = titanic.dropna()"
   ]
  },
  {
   "cell_type": "code",
   "execution_count": null,
   "id": "da085713-a41a-4d75-b947-8ee2a1f62c2f",
   "metadata": {},
   "outputs": [],
   "source": [
    "titanic_new.isnull().sum()"
   ]
  },
  {
   "cell_type": "code",
   "execution_count": 116,
   "id": "75a950e3",
   "metadata": {},
   "outputs": [
    {
     "data": {
      "text/plain": [
       "(183, 13)"
      ]
     },
     "execution_count": 116,
     "metadata": {},
     "output_type": "execute_result"
    }
   ],
   "source": [
    "titanic_new.shape"
   ]
  },
  {
   "cell_type": "markdown",
   "id": "ec4b7ae8",
   "metadata": {},
   "source": [
    "### Fill NAs / Imputation"
   ]
  },
  {
   "cell_type": "code",
   "execution_count": null,
   "id": "262351d1-ec10-422a-aebf-763297e63a51",
   "metadata": {},
   "outputs": [],
   "source": [
    "titanic.isnull().sum()"
   ]
  },
  {
   "cell_type": "markdown",
   "id": "f468fecc-c782-489f-9d3c-58f92d97b0d2",
   "metadata": {},
   "source": [
    "### Mode Imputation"
   ]
  },
  {
   "cell_type": "code",
   "execution_count": null,
   "id": "2a42d8a0-faac-47b8-8f84-6b46eff20efa",
   "metadata": {},
   "outputs": [],
   "source": [
    "# titanic.pivot_table('PassengerId', index = 'Survived', columns = 'Embarked', aggfunc='count')\n",
    "mode_embarked = titanic['Embarked'].mode()[0] # Python still thinks the mode-aggregated object is a DataSeries (one column of a DataFrame), so we need to select the string inside the DataSeries, hence the [0].\n",
    "mode_embarked"
   ]
  },
  {
   "cell_type": "code",
   "execution_count": 119,
   "id": "61c83a51",
   "metadata": {},
   "outputs": [],
   "source": [
    "titanic['Embarked'].fillna('S',inplace = True)"
   ]
  },
  {
   "cell_type": "code",
   "execution_count": null,
   "id": "a2863fc5-6097-4cf1-8703-3639ce11d820",
   "metadata": {},
   "outputs": [],
   "source": [
    "titanic.isnull().sum()"
   ]
  },
  {
   "cell_type": "markdown",
   "id": "85118d1b-9c46-4066-9d21-73103a57a960",
   "metadata": {},
   "source": [
    "### Mean Imputation"
   ]
  },
  {
   "cell_type": "code",
   "execution_count": null,
   "id": "873ef9f4-4f9c-443e-bbaf-5544da8bc260",
   "metadata": {},
   "outputs": [],
   "source": [
    "#titanic.groupby(titanic['Cabin'].isnull()).mean()\n",
    "\n",
    "titanic[titanic['Age'].isnull()]"
   ]
  },
  {
   "cell_type": "code",
   "execution_count": null,
   "id": "60fe6062-8ec0-414a-89ea-ffc50bda8ea4",
   "metadata": {},
   "outputs": [],
   "source": [
    "mean_age = round(titanic['Age'].mean(),1)\n",
    "mean_age"
   ]
  },
  {
   "cell_type": "code",
   "execution_count": null,
   "id": "97b958d4-a12c-426e-b68a-ab73b87d5d9b",
   "metadata": {},
   "outputs": [],
   "source": [
    "titanic.groupby('Survived')['Age'].mean()"
   ]
  },
  {
   "cell_type": "code",
   "execution_count": 125,
   "id": "10f1b1fd-9285-440c-8281-822a28451ee4",
   "metadata": {},
   "outputs": [],
   "source": [
    "titanic['Age'].replace(np.nan, mean_age, inplace=True)\n",
    "# titanic_train.iloc[[5,19,28,863,878],:]"
   ]
  },
  {
   "cell_type": "code",
   "execution_count": null,
   "id": "d860bad1-b4e7-431f-b256-cb92e9e44ef8",
   "metadata": {},
   "outputs": [],
   "source": [
    "titanic.info()"
   ]
  },
  {
   "cell_type": "code",
   "execution_count": null,
   "id": "3b690f5c-1762-43f3-8c92-5a20851836f2",
   "metadata": {},
   "outputs": [],
   "source": [
    "titanic.isnull().sum()"
   ]
  },
  {
   "cell_type": "markdown",
   "id": "65bb3a51-a21e-43d4-abd7-3471d5b329f8",
   "metadata": {},
   "source": [
    "### Deletion"
   ]
  },
  {
   "cell_type": "code",
   "execution_count": 128,
   "id": "d4a9248f-21e3-4eaa-a81e-a15dfbfb10cc",
   "metadata": {},
   "outputs": [],
   "source": [
    "titanic.drop(columns='Cabin', inplace=True)"
   ]
  },
  {
   "cell_type": "code",
   "execution_count": null,
   "id": "4a80cd6e-f519-4ca0-bb3b-37275129a402",
   "metadata": {},
   "outputs": [],
   "source": [
    "# Check new dataset\n",
    "titanic.head()"
   ]
  },
  {
   "cell_type": "code",
   "execution_count": null,
   "id": "341c9481-3f60-4cde-bd86-a0e912de8d13",
   "metadata": {},
   "outputs": [],
   "source": [
    "titanic.drop(columns=['PassengerId','Name','Ticket','Embarked'], inplace=True)"
   ]
  },
  {
   "cell_type": "code",
   "execution_count": 131,
   "id": "1cf53b66-7ccb-4166-be0e-73b5bcc75e01",
   "metadata": {},
   "outputs": [],
   "source": [
    "titanic = pd.get_dummies(titanic, columns=['Sex'])"
   ]
  },
  {
   "cell_type": "code",
   "execution_count": null,
   "id": "31711355-907b-4dfd-94a0-889dd670b853",
   "metadata": {},
   "outputs": [],
   "source": [
    "titanic.head()"
   ]
  },
  {
   "cell_type": "code",
   "execution_count": 133,
   "id": "c2a40d0a-63cf-4321-99c5-077db5403ba7",
   "metadata": {},
   "outputs": [],
   "source": [
    "# Drop Sex_female\n",
    "titanic.drop('Sex_female', axis=1, inplace=True) # axis=1 specifies that a column is being dropped. If we want to drop rows, we specify axis=0"
   ]
  },
  {
   "cell_type": "code",
   "execution_count": null,
   "id": "1a37b9d6-8d4b-47c0-80ee-824d8ff694d2",
   "metadata": {},
   "outputs": [],
   "source": [
    "titanic.head()"
   ]
  },
  {
   "cell_type": "markdown",
   "id": "d14826bb-c2eb-4abd-8529-76c84f6ea25e",
   "metadata": {},
   "source": [
    "We perform the same dummification process of getting dummy columns (the Sex_male and Sex_female are called dummy variables, which are obtained from the original Sex column) for the Pclass column. This time, we add an additional argument drop_first=True to the get_dummies() method to drop one irrelevant column:"
   ]
  },
  {
   "cell_type": "code",
   "execution_count": 137,
   "id": "2a54d972-275a-4de5-be19-7e7b338aef05",
   "metadata": {},
   "outputs": [],
   "source": [
    "titanic = pd.get_dummies(titanic, columns=['Pclass'], drop_first=True)"
   ]
  },
  {
   "cell_type": "code",
   "execution_count": 138,
   "id": "36d330e2-99a7-4592-801c-42548f8f3c94",
   "metadata": {},
   "outputs": [
    {
     "data": {
      "text/html": [
       "<div>\n",
       "<style scoped>\n",
       "    .dataframe tbody tr th:only-of-type {\n",
       "        vertical-align: middle;\n",
       "    }\n",
       "\n",
       "    .dataframe tbody tr th {\n",
       "        vertical-align: top;\n",
       "    }\n",
       "\n",
       "    .dataframe thead th {\n",
       "        text-align: right;\n",
       "    }\n",
       "</style>\n",
       "<table border=\"1\" class=\"dataframe\">\n",
       "  <thead>\n",
       "    <tr style=\"text-align: right;\">\n",
       "      <th></th>\n",
       "      <th>Survived</th>\n",
       "      <th>Age</th>\n",
       "      <th>SibSp</th>\n",
       "      <th>Parch</th>\n",
       "      <th>Fare</th>\n",
       "      <th>Family_Cnt</th>\n",
       "      <th>Sex_male</th>\n",
       "      <th>Pclass_2</th>\n",
       "      <th>Pclass_3</th>\n",
       "    </tr>\n",
       "  </thead>\n",
       "  <tbody>\n",
       "    <tr>\n",
       "      <th>0</th>\n",
       "      <td>0</td>\n",
       "      <td>22.0</td>\n",
       "      <td>1</td>\n",
       "      <td>0</td>\n",
       "      <td>7.2500</td>\n",
       "      <td>1</td>\n",
       "      <td>1</td>\n",
       "      <td>0</td>\n",
       "      <td>1</td>\n",
       "    </tr>\n",
       "    <tr>\n",
       "      <th>1</th>\n",
       "      <td>1</td>\n",
       "      <td>38.0</td>\n",
       "      <td>1</td>\n",
       "      <td>0</td>\n",
       "      <td>71.2833</td>\n",
       "      <td>1</td>\n",
       "      <td>0</td>\n",
       "      <td>0</td>\n",
       "      <td>0</td>\n",
       "    </tr>\n",
       "    <tr>\n",
       "      <th>2</th>\n",
       "      <td>1</td>\n",
       "      <td>26.0</td>\n",
       "      <td>0</td>\n",
       "      <td>0</td>\n",
       "      <td>7.9250</td>\n",
       "      <td>0</td>\n",
       "      <td>0</td>\n",
       "      <td>0</td>\n",
       "      <td>1</td>\n",
       "    </tr>\n",
       "    <tr>\n",
       "      <th>3</th>\n",
       "      <td>1</td>\n",
       "      <td>35.0</td>\n",
       "      <td>1</td>\n",
       "      <td>0</td>\n",
       "      <td>53.1000</td>\n",
       "      <td>1</td>\n",
       "      <td>0</td>\n",
       "      <td>0</td>\n",
       "      <td>0</td>\n",
       "    </tr>\n",
       "    <tr>\n",
       "      <th>4</th>\n",
       "      <td>0</td>\n",
       "      <td>35.0</td>\n",
       "      <td>0</td>\n",
       "      <td>0</td>\n",
       "      <td>8.0500</td>\n",
       "      <td>0</td>\n",
       "      <td>1</td>\n",
       "      <td>0</td>\n",
       "      <td>1</td>\n",
       "    </tr>\n",
       "  </tbody>\n",
       "</table>\n",
       "</div>"
      ],
      "text/plain": [
       "   Survived   Age  SibSp  Parch     Fare  Family_Cnt  Sex_male  Pclass_2  \\\n",
       "0         0  22.0      1      0   7.2500           1         1         0   \n",
       "1         1  38.0      1      0  71.2833           1         0         0   \n",
       "2         1  26.0      0      0   7.9250           0         0         0   \n",
       "3         1  35.0      1      0  53.1000           1         0         0   \n",
       "4         0  35.0      0      0   8.0500           0         1         0   \n",
       "\n",
       "   Pclass_3  \n",
       "0         1  \n",
       "1         0  \n",
       "2         1  \n",
       "3         0  \n",
       "4         1  "
      ]
     },
     "execution_count": 138,
     "metadata": {},
     "output_type": "execute_result"
    }
   ],
   "source": [
    "titanic.head()"
   ]
  },
  {
   "cell_type": "markdown",
   "id": "482a7e4c-95f8-4631-8da7-29df721a08ac",
   "metadata": {},
   "source": [
    "In the Pclass column, we had 3 categories: first, second and third class passengers. One-hot encoding for 3 categories works like this: if the passenger is in 1st class, Pclass_1 = 1 and Pclass_2 = Pclass_3 = 0. If the passenger is in 2nd class, Pclass_2 = 1 and Pclass_1 = Pclass_3 = 0, and similarly for 3rd class passengers.\n",
    "\n",
    "In this case, all the information is captured in two columns (the irrelevant column was already dropped by specifying the drop_first=True argument in the previous line of code). Likewise, if we have 4 categories in a column, we create 3 dummies and drop one, and so on."
   ]
  },
  {
   "cell_type": "markdown",
   "id": "30c02fcc-9917-4113-b0f5-bbe649411a72",
   "metadata": {},
   "source": [
    "## Predictive Analysis\n",
    "In order to make predictions about the survival rate, we first need to separate the train dataset into independent variables (all the columns except Survived) and the dependent variable (the target column Survived). The test dataset does not contain the Survived column because we are supposed to predict it. Next, we choose a machine learning algorithm and train it using the train dataset. Finally, we ask it to make predictions for the target column using the test dataset."
   ]
  },
  {
   "cell_type": "code",
   "execution_count": null,
   "id": "85b8f07b-4120-4299-b4f5-6ed4b65e84a4",
   "metadata": {},
   "outputs": [],
   "source": []
  }
 ],
 "metadata": {
  "kernelspec": {
   "display_name": "Python 3 (ipykernel)",
   "language": "python",
   "name": "python3"
  },
  "language_info": {
   "codemirror_mode": {
    "name": "ipython",
    "version": 3
   },
   "file_extension": ".py",
   "mimetype": "text/x-python",
   "name": "python",
   "nbconvert_exporter": "python",
   "pygments_lexer": "ipython3",
   "version": "3.9.12"
  }
 },
 "nbformat": 4,
 "nbformat_minor": 5
}
